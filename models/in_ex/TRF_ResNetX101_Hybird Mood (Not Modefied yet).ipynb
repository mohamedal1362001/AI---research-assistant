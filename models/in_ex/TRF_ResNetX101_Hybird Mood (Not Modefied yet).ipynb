{
  "cells": [
    {
      "attachments": {},
      "cell_type": "markdown",
      "metadata": {
        "id": "IlYycKjcB8Yq"
      },
      "source": [
        "# Citation Generation NoteBook\n",
        "\n",
        "---\n",
        "\n",
        "*   APA\n",
        "*   MLA\n",
        "*   Chigaco\n",
        "\n",
        "---\n",
        "\n",
        "**Models used in this notebook**\n",
        "# > PubLayNet/mask_rcnn_X_101_32x8d_FPN_3x\n",
        "\n",
        "   \n",
        "\n",
        "*   PubLayNet/mask_rcnn_X_101_32x8d_FPN_3x is a deep learning model for document layout analysis. It is based on the Mask R-CNN object detection framework and is trained on the PubLayNet dataset, which is a large dataset of document images.\n",
        "\n",
        "*   PubLayNet/mask_rcnn_X_101_32x8d_FPN_3x can be used to detect and segment different types of document layout elements, such as tables, text blocks, and images. It can also be used to extract text from documents.\n",
        "\n",
        "*   The model is available for free on the Layout Parser website. It can be used with the Layout Parser Python library to detect and segment document layout elements in images.\n",
        "\n",
        "\n",
        "*   Here are some of the key features of PubLayNet/mask_rcnn_X_101_32x8d_FPN_3x:\n",
        "\n",
        "  * It is based on the Mask R-CNN object detection framework.\n",
        "  * It is trained on the PubLayNet dataset, which is a large dataset of document images.\n",
        "  * It can be used to detect and segment different types of document layout elements, such as tables, text blocks, and images.\n",
        "  * It can also be used to extract text from documents.\n",
        "\n",
        "\n",
        "\n",
        "*   Here are some of the limitations of PubLayNet/mask_rcnn_X_101_32x8d_FPN_3x:\n",
        "\n",
        "  * It is a deep learning model, so it requires a lot of memory and processing power.\n",
        "  * It is not always accurate, especially for documents that are not well-aligned or have low quality.\n",
        "  * It can be difficult to interpret the results of the model, such as the segmentation masks and extracted text.\n",
        "\n",
        "# > en_core_web_sm\n",
        "\n",
        "*   en_core_web_sm is a small English language model from the spaCy library that is trained on a massive dataset of text and code. It can be used for a variety of tasks, including:\n",
        "\n",
        "  * Named entity recognition (NER)\n",
        "  * Part-of-speech tagging (POS tagging)\n",
        "  * Dependency parsing\n",
        "  * Semantic similarity\n",
        "  * Text generation\n",
        "\n",
        "*   en_core_web_sm is a smaller model than en_core_web_trf, so it requires less memory and processing power. It is also more accurate for rare or uncommon words. However, it is not as powerful as en_core_web_trf for some tasks, such as semantic similarity and text generation.\n",
        "\n",
        "\n",
        "*   Here are some of the key features of en_core_web_sm:\n",
        "\n",
        "  * It is trained on a massive dataset of text and code.\n",
        "  * It is based on the Transformer architecture.\n",
        "  * It can be used for a variety of tasks, including NER, POS tagging, dependency parsing, semantic similarity, and text generation.\n",
        "  * It is smaller than en_core_web_trf, so it requires less memory and processing power.\n",
        "  * It is more accurate for rare or uncommon words.\n",
        "\n",
        "*  Here are some of the limitations of en_core_web_sm:\n",
        "\n",
        "  * It is not as powerful as en_core_web_trf for some tasks, such as semantic similarity and text generation.\n",
        "\n",
        "  \n",
        "# > en_core_web_trf\n",
        "\n",
        "\n",
        "\n",
        "*   en_core_web_trf is a large language model (LLM) from the spaCy library that is trained on a massive dataset of text and code. It can be used for a variety of tasks, including:\n",
        "\n",
        "  *  Named entity recognition (NER)\n",
        "  * Part-of-speech tagging (POS tagging)\n",
        "  * Dependency parsing\n",
        "  * Semantic similarity\n",
        "  * Text generation\n",
        "*   en_core_web_trf is based on the Transformer architecture, which is a neural network architecture that has been shown to be very effective for natural language processing tasks. It is trained on a massive dataset of text and code, which allows it to learn the statistical relationships between words and phrases. en_core_web_trf is a powerful tool that can be used for a variety of tasks. It is easy to use and can be integrated into a variety of applications.\n",
        "\n",
        "\n",
        "*   Here are some of the key features of en_core_web_trf:\n",
        "\n",
        "  * It is trained on a massive dataset of text and code.\n",
        "  * It is based on the Transformer architecture.\n",
        "  * It can be used for a variety of tasks, including NER, POS tagging, dependency parsing, semantic similarity, and text generation.\n",
        "  * It is easy to use and can be integrated into a variety of applications.\n",
        "\n",
        "*  Here are some of the limitations of en_core_web_trf:\n",
        "\n",
        "  * It is a large model, so it requires a lot of memory and processing power.\n",
        "  * It is not always accurate, especially for rare or uncommon words.\n",
        "  * It can be difficult to interpret the results of some of the tasks that it can perform, such as semantic similarity and text generation.\n",
        "\n",
        "\n",
        "\n",
        "\n",
        "\n",
        "\n",
        "\n",
        "\n"
      ]
    },
    {
      "attachments": {},
      "cell_type": "markdown",
      "metadata": {
        "id": "uT1x0LLyElNi"
      },
      "source": [
        "# Install Dependencies"
      ]
    },
    {
      "cell_type": "code",
      "execution_count": null,
      "metadata": {},
      "outputs": [],
      "source": [
        "!python -m pip install --upgrade pip\n",
        "!pip install --upgrade wheel\n",
        "!pip install --upgrade setuptools\n",
        "#donot run it"
      ]
    },
    {
      "cell_type": "code",
      "execution_count": 1,
      "metadata": {},
      "outputs": [
        {
          "name": "stdout",
          "output_type": "stream",
          "text": [
            "Requirement already satisfied: pip in c:\\users\\mohamedali\\appdata\\local\\packages\\pythonsoftwarefoundation.python.3.8_qbz5n2kfra8p0\\localcache\\local-packages\\python38\\site-packages (23.1.2)\n"
          ]
        }
      ],
      "source": [
        "!pip install --upgrade pip"
      ]
    },
    {
      "cell_type": "code",
      "execution_count": 4,
      "metadata": {},
      "outputs": [
        {
          "name": "stderr",
          "output_type": "stream",
          "text": [
            "  WARNING: The scripts fonttools.exe, pyftmerge.exe, pyftsubset.exe and ttx.exe are installed in 'C:\\Users\\MohamedAli\\AppData\\Local\\Packages\\PythonSoftwareFoundation.Python.3.8_qbz5n2kfra8p0\\LocalCache\\local-packages\\Python38\\Scripts' which is not on PATH.\n",
            "  Consider adding this directory to PATH or, if you prefer to suppress this warning, use --no-warn-script-location.\n",
            "  WARNING: The scripts cygdb.exe, cython.exe and cythonize.exe are installed in 'C:\\Users\\MohamedAli\\AppData\\Local\\Packages\\PythonSoftwareFoundation.Python.3.8_qbz5n2kfra8p0\\LocalCache\\local-packages\\Python38\\Scripts' which is not on PATH.\n",
            "  Consider adding this directory to PATH or, if you prefer to suppress this warning, use --no-warn-script-location.\n"
          ]
        },
        {
          "name": "stdout",
          "output_type": "stream",
          "text": [
            "Collecting pycocotools-windows\n",
            "  Downloading pycocotools_windows-2.0.0.2-cp38-cp38-win_amd64.whl (84 kB)\n",
            "                                              0.0/84.9 kB ? eta -:--:--\n",
            "     -------------                          30.7/84.9 kB 640.0 kB/s eta 0:00:01\n",
            "     -------------------------------------- 84.9/84.9 kB 957.8 kB/s eta 0:00:00\n",
            "Requirement already satisfied: setuptools>=18.0 in c:\\users\\mohamedali\\appdata\\local\\packages\\pythonsoftwarefoundation.python.3.8_qbz5n2kfra8p0\\localcache\\local-packages\\python38\\site-packages (from pycocotools-windows) (67.8.0)\n",
            "Collecting cython>=0.27.3 (from pycocotools-windows)\n",
            "  Using cached Cython-0.29.35-py2.py3-none-any.whl (988 kB)\n",
            "Collecting matplotlib>=2.1.0 (from pycocotools-windows)\n",
            "  Using cached matplotlib-3.7.1-cp38-cp38-win_amd64.whl (7.6 MB)\n",
            "Collecting contourpy>=1.0.1 (from matplotlib>=2.1.0->pycocotools-windows)\n",
            "  Using cached contourpy-1.0.7-cp38-cp38-win_amd64.whl (162 kB)\n",
            "Collecting cycler>=0.10 (from matplotlib>=2.1.0->pycocotools-windows)\n",
            "  Using cached cycler-0.11.0-py3-none-any.whl (6.4 kB)\n",
            "Collecting fonttools>=4.22.0 (from matplotlib>=2.1.0->pycocotools-windows)\n",
            "  Using cached fonttools-4.39.4-py3-none-any.whl (1.0 MB)\n",
            "Collecting kiwisolver>=1.0.1 (from matplotlib>=2.1.0->pycocotools-windows)\n",
            "  Using cached kiwisolver-1.4.4-cp38-cp38-win_amd64.whl (55 kB)\n",
            "Requirement already satisfied: numpy>=1.20 in c:\\users\\mohamedali\\appdata\\local\\packages\\pythonsoftwarefoundation.python.3.8_qbz5n2kfra8p0\\localcache\\local-packages\\python38\\site-packages (from matplotlib>=2.1.0->pycocotools-windows) (1.24.3)\n",
            "Requirement already satisfied: packaging>=20.0 in c:\\users\\mohamedali\\appdata\\local\\packages\\pythonsoftwarefoundation.python.3.8_qbz5n2kfra8p0\\localcache\\local-packages\\python38\\site-packages (from matplotlib>=2.1.0->pycocotools-windows) (23.1)\n",
            "Requirement already satisfied: pillow>=6.2.0 in c:\\users\\mohamedali\\appdata\\local\\packages\\pythonsoftwarefoundation.python.3.8_qbz5n2kfra8p0\\localcache\\local-packages\\python38\\site-packages (from matplotlib>=2.1.0->pycocotools-windows) (9.5.0)\n",
            "Collecting pyparsing>=2.3.1 (from matplotlib>=2.1.0->pycocotools-windows)\n",
            "  Using cached pyparsing-3.0.9-py3-none-any.whl (98 kB)\n",
            "Requirement already satisfied: python-dateutil>=2.7 in c:\\users\\mohamedali\\appdata\\local\\packages\\pythonsoftwarefoundation.python.3.8_qbz5n2kfra8p0\\localcache\\local-packages\\python38\\site-packages (from matplotlib>=2.1.0->pycocotools-windows) (2.8.2)\n",
            "Collecting importlib-resources>=3.2.0 (from matplotlib>=2.1.0->pycocotools-windows)\n",
            "  Using cached importlib_resources-5.12.0-py3-none-any.whl (36 kB)\n",
            "Requirement already satisfied: zipp>=3.1.0 in c:\\users\\mohamedali\\appdata\\local\\packages\\pythonsoftwarefoundation.python.3.8_qbz5n2kfra8p0\\localcache\\local-packages\\python38\\site-packages (from importlib-resources>=3.2.0->matplotlib>=2.1.0->pycocotools-windows) (3.15.0)\n",
            "Requirement already satisfied: six>=1.5 in c:\\users\\mohamedali\\appdata\\local\\packages\\pythonsoftwarefoundation.python.3.8_qbz5n2kfra8p0\\localcache\\local-packages\\python38\\site-packages (from python-dateutil>=2.7->matplotlib>=2.1.0->pycocotools-windows) (1.16.0)\n",
            "Installing collected packages: pyparsing, kiwisolver, importlib-resources, fonttools, cython, cycler, contourpy, matplotlib, pycocotools-windows\n",
            "Successfully installed contourpy-1.0.7 cycler-0.11.0 cython-0.29.35 fonttools-4.39.4 importlib-resources-5.12.0 kiwisolver-1.4.4 matplotlib-3.7.1 pycocotools-windows-2.0.0.2 pyparsing-3.0.9\n"
          ]
        }
      ],
      "source": [
        "!pip install pycocotools-windows"
      ]
    },
    {
      "cell_type": "code",
      "execution_count": 5,
      "metadata": {
        "id": "6G7kIjmJwX9t"
      },
      "outputs": [
        {
          "name": "stdout",
          "output_type": "stream",
          "text": [
            "Requirement already satisfied: layoutparser in c:\\users\\mohamedali\\appdata\\local\\packages\\pythonsoftwarefoundation.python.3.8_qbz5n2kfra8p0\\localcache\\local-packages\\python38\\site-packages (0.3.4)\n",
            "Requirement already satisfied: numpy in c:\\users\\mohamedali\\appdata\\local\\packages\\pythonsoftwarefoundation.python.3.8_qbz5n2kfra8p0\\localcache\\local-packages\\python38\\site-packages (from layoutparser) (1.24.3)\n",
            "Requirement already satisfied: opencv-python in c:\\users\\mohamedali\\appdata\\local\\packages\\pythonsoftwarefoundation.python.3.8_qbz5n2kfra8p0\\localcache\\local-packages\\python38\\site-packages (from layoutparser) (4.7.0.72)\n",
            "Requirement already satisfied: scipy in c:\\users\\mohamedali\\appdata\\local\\packages\\pythonsoftwarefoundation.python.3.8_qbz5n2kfra8p0\\localcache\\local-packages\\python38\\site-packages (from layoutparser) (1.10.1)\n",
            "Requirement already satisfied: pandas in c:\\users\\mohamedali\\appdata\\local\\packages\\pythonsoftwarefoundation.python.3.8_qbz5n2kfra8p0\\localcache\\local-packages\\python38\\site-packages (from layoutparser) (2.0.1)\n",
            "Requirement already satisfied: pillow in c:\\users\\mohamedali\\appdata\\local\\packages\\pythonsoftwarefoundation.python.3.8_qbz5n2kfra8p0\\localcache\\local-packages\\python38\\site-packages (from layoutparser) (9.5.0)\n",
            "Requirement already satisfied: pyyaml>=5.1 in c:\\users\\mohamedali\\appdata\\local\\packages\\pythonsoftwarefoundation.python.3.8_qbz5n2kfra8p0\\localcache\\local-packages\\python38\\site-packages (from layoutparser) (6.0)\n",
            "Requirement already satisfied: iopath in c:\\users\\mohamedali\\appdata\\local\\packages\\pythonsoftwarefoundation.python.3.8_qbz5n2kfra8p0\\localcache\\local-packages\\python38\\site-packages (from layoutparser) (0.1.10)\n",
            "Requirement already satisfied: pdfplumber in c:\\users\\mohamedali\\appdata\\local\\packages\\pythonsoftwarefoundation.python.3.8_qbz5n2kfra8p0\\localcache\\local-packages\\python38\\site-packages (from layoutparser) (0.9.0)\n",
            "Requirement already satisfied: pdf2image in c:\\users\\mohamedali\\appdata\\local\\packages\\pythonsoftwarefoundation.python.3.8_qbz5n2kfra8p0\\localcache\\local-packages\\python38\\site-packages (from layoutparser) (1.16.3)\n",
            "Requirement already satisfied: tqdm in c:\\users\\mohamedali\\appdata\\local\\packages\\pythonsoftwarefoundation.python.3.8_qbz5n2kfra8p0\\localcache\\local-packages\\python38\\site-packages (from iopath->layoutparser) (4.65.0)\n",
            "Requirement already satisfied: typing_extensions in c:\\users\\mohamedali\\appdata\\local\\packages\\pythonsoftwarefoundation.python.3.8_qbz5n2kfra8p0\\localcache\\local-packages\\python38\\site-packages (from iopath->layoutparser) (4.5.0)\n",
            "Requirement already satisfied: portalocker in c:\\users\\mohamedali\\appdata\\local\\packages\\pythonsoftwarefoundation.python.3.8_qbz5n2kfra8p0\\localcache\\local-packages\\python38\\site-packages (from iopath->layoutparser) (2.7.0)\n",
            "Requirement already satisfied: python-dateutil>=2.8.2 in c:\\users\\mohamedali\\appdata\\local\\packages\\pythonsoftwarefoundation.python.3.8_qbz5n2kfra8p0\\localcache\\local-packages\\python38\\site-packages (from pandas->layoutparser) (2.8.2)\n",
            "Requirement already satisfied: pytz>=2020.1 in c:\\users\\mohamedali\\appdata\\local\\packages\\pythonsoftwarefoundation.python.3.8_qbz5n2kfra8p0\\localcache\\local-packages\\python38\\site-packages (from pandas->layoutparser) (2023.3)\n",
            "Requirement already satisfied: tzdata>=2022.1 in c:\\users\\mohamedali\\appdata\\local\\packages\\pythonsoftwarefoundation.python.3.8_qbz5n2kfra8p0\\localcache\\local-packages\\python38\\site-packages (from pandas->layoutparser) (2023.3)\n",
            "Requirement already satisfied: pdfminer.six==20221105 in c:\\users\\mohamedali\\appdata\\local\\packages\\pythonsoftwarefoundation.python.3.8_qbz5n2kfra8p0\\localcache\\local-packages\\python38\\site-packages (from pdfplumber->layoutparser) (20221105)\n",
            "Requirement already satisfied: Wand>=0.6.10 in c:\\users\\mohamedali\\appdata\\local\\packages\\pythonsoftwarefoundation.python.3.8_qbz5n2kfra8p0\\localcache\\local-packages\\python38\\site-packages (from pdfplumber->layoutparser) (0.6.11)\n",
            "Requirement already satisfied: charset-normalizer>=2.0.0 in c:\\users\\mohamedali\\appdata\\local\\packages\\pythonsoftwarefoundation.python.3.8_qbz5n2kfra8p0\\localcache\\local-packages\\python38\\site-packages (from pdfminer.six==20221105->pdfplumber->layoutparser) (3.1.0)\n",
            "Requirement already satisfied: cryptography>=36.0.0 in c:\\users\\mohamedali\\appdata\\local\\packages\\pythonsoftwarefoundation.python.3.8_qbz5n2kfra8p0\\localcache\\local-packages\\python38\\site-packages (from pdfminer.six==20221105->pdfplumber->layoutparser) (40.0.2)\n",
            "Requirement already satisfied: six>=1.5 in c:\\users\\mohamedali\\appdata\\local\\packages\\pythonsoftwarefoundation.python.3.8_qbz5n2kfra8p0\\localcache\\local-packages\\python38\\site-packages (from python-dateutil>=2.8.2->pandas->layoutparser) (1.16.0)\n",
            "Requirement already satisfied: pywin32>=226 in c:\\users\\mohamedali\\appdata\\local\\packages\\pythonsoftwarefoundation.python.3.8_qbz5n2kfra8p0\\localcache\\local-packages\\python38\\site-packages (from portalocker->iopath->layoutparser) (306)\n",
            "Requirement already satisfied: colorama in c:\\users\\mohamedali\\appdata\\local\\packages\\pythonsoftwarefoundation.python.3.8_qbz5n2kfra8p0\\localcache\\local-packages\\python38\\site-packages (from tqdm->iopath->layoutparser) (0.4.6)\n",
            "Requirement already satisfied: cffi>=1.12 in c:\\users\\mohamedali\\appdata\\local\\packages\\pythonsoftwarefoundation.python.3.8_qbz5n2kfra8p0\\localcache\\local-packages\\python38\\site-packages (from cryptography>=36.0.0->pdfminer.six==20221105->pdfplumber->layoutparser) (1.15.1)\n",
            "Requirement already satisfied: pycparser in c:\\users\\mohamedali\\appdata\\local\\packages\\pythonsoftwarefoundation.python.3.8_qbz5n2kfra8p0\\localcache\\local-packages\\python38\\site-packages (from cffi>=1.12->cryptography>=36.0.0->pdfminer.six==20221105->pdfplumber->layoutparser) (2.21)\n",
            "Requirement already satisfied: wheel in c:\\users\\mohamedali\\appdata\\local\\packages\\pythonsoftwarefoundation.python.3.8_qbz5n2kfra8p0\\localcache\\local-packages\\python38\\site-packages (0.40.0)\n",
            "Requirement already satisfied: setuptools in c:\\users\\mohamedali\\appdata\\local\\packages\\pythonsoftwarefoundation.python.3.8_qbz5n2kfra8p0\\localcache\\local-packages\\python38\\site-packages (67.8.0)\n",
            "Requirement already satisfied: spacy in c:\\users\\mohamedali\\appdata\\local\\packages\\pythonsoftwarefoundation.python.3.8_qbz5n2kfra8p0\\localcache\\local-packages\\python38\\site-packages (3.5.3)\n",
            "Requirement already satisfied: spacy-legacy<3.1.0,>=3.0.11 in c:\\users\\mohamedali\\appdata\\local\\packages\\pythonsoftwarefoundation.python.3.8_qbz5n2kfra8p0\\localcache\\local-packages\\python38\\site-packages (from spacy) (3.0.12)\n",
            "Requirement already satisfied: spacy-loggers<2.0.0,>=1.0.0 in c:\\users\\mohamedali\\appdata\\local\\packages\\pythonsoftwarefoundation.python.3.8_qbz5n2kfra8p0\\localcache\\local-packages\\python38\\site-packages (from spacy) (1.0.4)\n",
            "Requirement already satisfied: murmurhash<1.1.0,>=0.28.0 in c:\\users\\mohamedali\\appdata\\local\\packages\\pythonsoftwarefoundation.python.3.8_qbz5n2kfra8p0\\localcache\\local-packages\\python38\\site-packages (from spacy) (1.0.9)\n",
            "Requirement already satisfied: cymem<2.1.0,>=2.0.2 in c:\\users\\mohamedali\\appdata\\local\\packages\\pythonsoftwarefoundation.python.3.8_qbz5n2kfra8p0\\localcache\\local-packages\\python38\\site-packages (from spacy) (2.0.7)\n",
            "Requirement already satisfied: preshed<3.1.0,>=3.0.2 in c:\\users\\mohamedali\\appdata\\local\\packages\\pythonsoftwarefoundation.python.3.8_qbz5n2kfra8p0\\localcache\\local-packages\\python38\\site-packages (from spacy) (3.0.8)\n",
            "Requirement already satisfied: thinc<8.2.0,>=8.1.8 in c:\\users\\mohamedali\\appdata\\local\\packages\\pythonsoftwarefoundation.python.3.8_qbz5n2kfra8p0\\localcache\\local-packages\\python38\\site-packages (from spacy) (8.1.10)\n",
            "Requirement already satisfied: wasabi<1.2.0,>=0.9.1 in c:\\users\\mohamedali\\appdata\\local\\packages\\pythonsoftwarefoundation.python.3.8_qbz5n2kfra8p0\\localcache\\local-packages\\python38\\site-packages (from spacy) (1.1.1)\n",
            "Requirement already satisfied: srsly<3.0.0,>=2.4.3 in c:\\users\\mohamedali\\appdata\\local\\packages\\pythonsoftwarefoundation.python.3.8_qbz5n2kfra8p0\\localcache\\local-packages\\python38\\site-packages (from spacy) (2.4.6)\n",
            "Requirement already satisfied: catalogue<2.1.0,>=2.0.6 in c:\\users\\mohamedali\\appdata\\local\\packages\\pythonsoftwarefoundation.python.3.8_qbz5n2kfra8p0\\localcache\\local-packages\\python38\\site-packages (from spacy) (2.0.8)\n",
            "Requirement already satisfied: typer<0.8.0,>=0.3.0 in c:\\users\\mohamedali\\appdata\\local\\packages\\pythonsoftwarefoundation.python.3.8_qbz5n2kfra8p0\\localcache\\local-packages\\python38\\site-packages (from spacy) (0.7.0)\n",
            "Requirement already satisfied: pathy>=0.10.0 in c:\\users\\mohamedali\\appdata\\local\\packages\\pythonsoftwarefoundation.python.3.8_qbz5n2kfra8p0\\localcache\\local-packages\\python38\\site-packages (from spacy) (0.10.1)\n",
            "Requirement already satisfied: smart-open<7.0.0,>=5.2.1 in c:\\users\\mohamedali\\appdata\\local\\packages\\pythonsoftwarefoundation.python.3.8_qbz5n2kfra8p0\\localcache\\local-packages\\python38\\site-packages (from spacy) (6.3.0)\n",
            "Requirement already satisfied: tqdm<5.0.0,>=4.38.0 in c:\\users\\mohamedali\\appdata\\local\\packages\\pythonsoftwarefoundation.python.3.8_qbz5n2kfra8p0\\localcache\\local-packages\\python38\\site-packages (from spacy) (4.65.0)\n",
            "Requirement already satisfied: numpy>=1.15.0 in c:\\users\\mohamedali\\appdata\\local\\packages\\pythonsoftwarefoundation.python.3.8_qbz5n2kfra8p0\\localcache\\local-packages\\python38\\site-packages (from spacy) (1.24.3)\n",
            "Requirement already satisfied: requests<3.0.0,>=2.13.0 in c:\\users\\mohamedali\\appdata\\local\\packages\\pythonsoftwarefoundation.python.3.8_qbz5n2kfra8p0\\localcache\\local-packages\\python38\\site-packages (from spacy) (2.31.0)\n",
            "Requirement already satisfied: pydantic!=1.8,!=1.8.1,<1.11.0,>=1.7.4 in c:\\users\\mohamedali\\appdata\\local\\packages\\pythonsoftwarefoundation.python.3.8_qbz5n2kfra8p0\\localcache\\local-packages\\python38\\site-packages (from spacy) (1.10.8)\n",
            "Requirement already satisfied: jinja2 in c:\\users\\mohamedali\\appdata\\local\\packages\\pythonsoftwarefoundation.python.3.8_qbz5n2kfra8p0\\localcache\\local-packages\\python38\\site-packages (from spacy) (3.1.2)\n",
            "Requirement already satisfied: setuptools in c:\\users\\mohamedali\\appdata\\local\\packages\\pythonsoftwarefoundation.python.3.8_qbz5n2kfra8p0\\localcache\\local-packages\\python38\\site-packages (from spacy) (67.8.0)\n",
            "Requirement already satisfied: packaging>=20.0 in c:\\users\\mohamedali\\appdata\\local\\packages\\pythonsoftwarefoundation.python.3.8_qbz5n2kfra8p0\\localcache\\local-packages\\python38\\site-packages (from spacy) (23.1)\n",
            "Requirement already satisfied: langcodes<4.0.0,>=3.2.0 in c:\\users\\mohamedali\\appdata\\local\\packages\\pythonsoftwarefoundation.python.3.8_qbz5n2kfra8p0\\localcache\\local-packages\\python38\\site-packages (from spacy) (3.3.0)\n",
            "Requirement already satisfied: typing-extensions>=4.2.0 in c:\\users\\mohamedali\\appdata\\local\\packages\\pythonsoftwarefoundation.python.3.8_qbz5n2kfra8p0\\localcache\\local-packages\\python38\\site-packages (from pydantic!=1.8,!=1.8.1,<1.11.0,>=1.7.4->spacy) (4.5.0)\n",
            "Requirement already satisfied: charset-normalizer<4,>=2 in c:\\users\\mohamedali\\appdata\\local\\packages\\pythonsoftwarefoundation.python.3.8_qbz5n2kfra8p0\\localcache\\local-packages\\python38\\site-packages (from requests<3.0.0,>=2.13.0->spacy) (3.1.0)\n",
            "Requirement already satisfied: idna<4,>=2.5 in c:\\users\\mohamedali\\appdata\\local\\packages\\pythonsoftwarefoundation.python.3.8_qbz5n2kfra8p0\\localcache\\local-packages\\python38\\site-packages (from requests<3.0.0,>=2.13.0->spacy) (3.4)\n",
            "Requirement already satisfied: urllib3<3,>=1.21.1 in c:\\users\\mohamedali\\appdata\\local\\packages\\pythonsoftwarefoundation.python.3.8_qbz5n2kfra8p0\\localcache\\local-packages\\python38\\site-packages (from requests<3.0.0,>=2.13.0->spacy) (1.26.16)\n",
            "Requirement already satisfied: certifi>=2017.4.17 in c:\\users\\mohamedali\\appdata\\local\\packages\\pythonsoftwarefoundation.python.3.8_qbz5n2kfra8p0\\localcache\\local-packages\\python38\\site-packages (from requests<3.0.0,>=2.13.0->spacy) (2023.5.7)\n",
            "Requirement already satisfied: blis<0.8.0,>=0.7.8 in c:\\users\\mohamedali\\appdata\\local\\packages\\pythonsoftwarefoundation.python.3.8_qbz5n2kfra8p0\\localcache\\local-packages\\python38\\site-packages (from thinc<8.2.0,>=8.1.8->spacy) (0.7.9)\n",
            "Requirement already satisfied: confection<1.0.0,>=0.0.1 in c:\\users\\mohamedali\\appdata\\local\\packages\\pythonsoftwarefoundation.python.3.8_qbz5n2kfra8p0\\localcache\\local-packages\\python38\\site-packages (from thinc<8.2.0,>=8.1.8->spacy) (0.0.4)\n",
            "Requirement already satisfied: colorama in c:\\users\\mohamedali\\appdata\\local\\packages\\pythonsoftwarefoundation.python.3.8_qbz5n2kfra8p0\\localcache\\local-packages\\python38\\site-packages (from tqdm<5.0.0,>=4.38.0->spacy) (0.4.6)\n",
            "Requirement already satisfied: click<9.0.0,>=7.1.1 in c:\\users\\mohamedali\\appdata\\local\\packages\\pythonsoftwarefoundation.python.3.8_qbz5n2kfra8p0\\localcache\\local-packages\\python38\\site-packages (from typer<0.8.0,>=0.3.0->spacy) (8.1.3)\n",
            "Requirement already satisfied: MarkupSafe>=2.0 in c:\\users\\mohamedali\\appdata\\local\\packages\\pythonsoftwarefoundation.python.3.8_qbz5n2kfra8p0\\localcache\\local-packages\\python38\\site-packages (from jinja2->spacy) (2.1.2)\n"
          ]
        },
        {
          "name": "stderr",
          "output_type": "stream",
          "text": [
            "c:\\Users\\MohamedAli\\AppData\\Local\\Programs\\Python\\Python39\\python.exe: No module named spacy\n"
          ]
        },
        {
          "name": "stdout",
          "output_type": "stream",
          "text": [
            "Requirement already satisfied: layoutparser[layoutmodels] in c:\\users\\mohamedali\\appdata\\local\\packages\\pythonsoftwarefoundation.python.3.8_qbz5n2kfra8p0\\localcache\\local-packages\\python38\\site-packages (0.3.4)\n",
            "Requirement already satisfied: numpy in c:\\users\\mohamedali\\appdata\\local\\packages\\pythonsoftwarefoundation.python.3.8_qbz5n2kfra8p0\\localcache\\local-packages\\python38\\site-packages (from layoutparser[layoutmodels]) (1.24.3)\n",
            "Requirement already satisfied: opencv-python in c:\\users\\mohamedali\\appdata\\local\\packages\\pythonsoftwarefoundation.python.3.8_qbz5n2kfra8p0\\localcache\\local-packages\\python38\\site-packages (from layoutparser[layoutmodels]) (4.7.0.72)\n",
            "Requirement already satisfied: scipy in c:\\users\\mohamedali\\appdata\\local\\packages\\pythonsoftwarefoundation.python.3.8_qbz5n2kfra8p0\\localcache\\local-packages\\python38\\site-packages (from layoutparser[layoutmodels]) (1.10.1)\n",
            "Requirement already satisfied: pandas in c:\\users\\mohamedali\\appdata\\local\\packages\\pythonsoftwarefoundation.python.3.8_qbz5n2kfra8p0\\localcache\\local-packages\\python38\\site-packages (from layoutparser[layoutmodels]) (2.0.1)\n",
            "Requirement already satisfied: pillow in c:\\users\\mohamedali\\appdata\\local\\packages\\pythonsoftwarefoundation.python.3.8_qbz5n2kfra8p0\\localcache\\local-packages\\python38\\site-packages (from layoutparser[layoutmodels]) (9.5.0)\n",
            "Requirement already satisfied: pyyaml>=5.1 in c:\\users\\mohamedali\\appdata\\local\\packages\\pythonsoftwarefoundation.python.3.8_qbz5n2kfra8p0\\localcache\\local-packages\\python38\\site-packages (from layoutparser[layoutmodels]) (6.0)\n",
            "Requirement already satisfied: iopath in c:\\users\\mohamedali\\appdata\\local\\packages\\pythonsoftwarefoundation.python.3.8_qbz5n2kfra8p0\\localcache\\local-packages\\python38\\site-packages (from layoutparser[layoutmodels]) (0.1.10)\n",
            "Requirement already satisfied: pdfplumber in c:\\users\\mohamedali\\appdata\\local\\packages\\pythonsoftwarefoundation.python.3.8_qbz5n2kfra8p0\\localcache\\local-packages\\python38\\site-packages (from layoutparser[layoutmodels]) (0.9.0)\n",
            "Requirement already satisfied: pdf2image in c:\\users\\mohamedali\\appdata\\local\\packages\\pythonsoftwarefoundation.python.3.8_qbz5n2kfra8p0\\localcache\\local-packages\\python38\\site-packages (from layoutparser[layoutmodels]) (1.16.3)\n",
            "Requirement already satisfied: torch in c:\\users\\mohamedali\\appdata\\local\\packages\\pythonsoftwarefoundation.python.3.8_qbz5n2kfra8p0\\localcache\\local-packages\\python38\\site-packages (from layoutparser[layoutmodels]) (2.0.1)\n",
            "Requirement already satisfied: torchvision in c:\\users\\mohamedali\\appdata\\local\\packages\\pythonsoftwarefoundation.python.3.8_qbz5n2kfra8p0\\localcache\\local-packages\\python38\\site-packages (from layoutparser[layoutmodels]) (0.15.2)\n",
            "Collecting effdet (from layoutparser[layoutmodels])\n",
            "  Using cached effdet-0.4.1-py3-none-any.whl (112 kB)\n",
            "Collecting timm>=0.9.2 (from effdet->layoutparser[layoutmodels])\n",
            "  Using cached timm-0.9.2-py3-none-any.whl (2.2 MB)\n",
            "Collecting pycocotools>=2.0.2 (from effdet->layoutparser[layoutmodels])\n",
            "  Using cached pycocotools-2.0.6.tar.gz (24 kB)\n",
            "  Installing build dependencies: started\n",
            "  Installing build dependencies: finished with status 'done'\n",
            "  Getting requirements to build wheel: started\n",
            "  Getting requirements to build wheel: finished with status 'done'\n",
            "  Preparing metadata (pyproject.toml): started\n",
            "  Preparing metadata (pyproject.toml): finished with status 'done'\n",
            "Collecting omegaconf>=2.0 (from effdet->layoutparser[layoutmodels])\n",
            "  Using cached omegaconf-2.3.0-py3-none-any.whl (79 kB)\n",
            "Requirement already satisfied: filelock in c:\\users\\mohamedali\\appdata\\local\\packages\\pythonsoftwarefoundation.python.3.8_qbz5n2kfra8p0\\localcache\\local-packages\\python38\\site-packages (from torch->layoutparser[layoutmodels]) (3.12.0)\n",
            "Requirement already satisfied: typing-extensions in c:\\users\\mohamedali\\appdata\\local\\packages\\pythonsoftwarefoundation.python.3.8_qbz5n2kfra8p0\\localcache\\local-packages\\python38\\site-packages (from torch->layoutparser[layoutmodels]) (4.5.0)\n",
            "Requirement already satisfied: sympy in c:\\users\\mohamedali\\appdata\\local\\packages\\pythonsoftwarefoundation.python.3.8_qbz5n2kfra8p0\\localcache\\local-packages\\python38\\site-packages (from torch->layoutparser[layoutmodels]) (1.12)\n",
            "Requirement already satisfied: networkx in c:\\users\\mohamedali\\appdata\\local\\packages\\pythonsoftwarefoundation.python.3.8_qbz5n2kfra8p0\\localcache\\local-packages\\python38\\site-packages (from torch->layoutparser[layoutmodels]) (3.1)\n",
            "Requirement already satisfied: jinja2 in c:\\users\\mohamedali\\appdata\\local\\packages\\pythonsoftwarefoundation.python.3.8_qbz5n2kfra8p0\\localcache\\local-packages\\python38\\site-packages (from torch->layoutparser[layoutmodels]) (3.1.2)\n",
            "Requirement already satisfied: tqdm in c:\\users\\mohamedali\\appdata\\local\\packages\\pythonsoftwarefoundation.python.3.8_qbz5n2kfra8p0\\localcache\\local-packages\\python38\\site-packages (from iopath->layoutparser[layoutmodels]) (4.65.0)\n",
            "Requirement already satisfied: portalocker in c:\\users\\mohamedali\\appdata\\local\\packages\\pythonsoftwarefoundation.python.3.8_qbz5n2kfra8p0\\localcache\\local-packages\\python38\\site-packages (from iopath->layoutparser[layoutmodels]) (2.7.0)\n",
            "Requirement already satisfied: python-dateutil>=2.8.2 in c:\\users\\mohamedali\\appdata\\local\\packages\\pythonsoftwarefoundation.python.3.8_qbz5n2kfra8p0\\localcache\\local-packages\\python38\\site-packages (from pandas->layoutparser[layoutmodels]) (2.8.2)\n",
            "Requirement already satisfied: pytz>=2020.1 in c:\\users\\mohamedali\\appdata\\local\\packages\\pythonsoftwarefoundation.python.3.8_qbz5n2kfra8p0\\localcache\\local-packages\\python38\\site-packages (from pandas->layoutparser[layoutmodels]) (2023.3)\n",
            "Requirement already satisfied: tzdata>=2022.1 in c:\\users\\mohamedali\\appdata\\local\\packages\\pythonsoftwarefoundation.python.3.8_qbz5n2kfra8p0\\localcache\\local-packages\\python38\\site-packages (from pandas->layoutparser[layoutmodels]) (2023.3)\n",
            "Requirement already satisfied: pdfminer.six==20221105 in c:\\users\\mohamedali\\appdata\\local\\packages\\pythonsoftwarefoundation.python.3.8_qbz5n2kfra8p0\\localcache\\local-packages\\python38\\site-packages (from pdfplumber->layoutparser[layoutmodels]) (20221105)\n",
            "Requirement already satisfied: Wand>=0.6.10 in c:\\users\\mohamedali\\appdata\\local\\packages\\pythonsoftwarefoundation.python.3.8_qbz5n2kfra8p0\\localcache\\local-packages\\python38\\site-packages (from pdfplumber->layoutparser[layoutmodels]) (0.6.11)\n",
            "Requirement already satisfied: charset-normalizer>=2.0.0 in c:\\users\\mohamedali\\appdata\\local\\packages\\pythonsoftwarefoundation.python.3.8_qbz5n2kfra8p0\\localcache\\local-packages\\python38\\site-packages (from pdfminer.six==20221105->pdfplumber->layoutparser[layoutmodels]) (3.1.0)\n",
            "Requirement already satisfied: cryptography>=36.0.0 in c:\\users\\mohamedali\\appdata\\local\\packages\\pythonsoftwarefoundation.python.3.8_qbz5n2kfra8p0\\localcache\\local-packages\\python38\\site-packages (from pdfminer.six==20221105->pdfplumber->layoutparser[layoutmodels]) (40.0.2)\n",
            "Requirement already satisfied: requests in c:\\users\\mohamedali\\appdata\\local\\packages\\pythonsoftwarefoundation.python.3.8_qbz5n2kfra8p0\\localcache\\local-packages\\python38\\site-packages (from torchvision->layoutparser[layoutmodels]) (2.31.0)\n",
            "Collecting antlr4-python3-runtime==4.9.* (from omegaconf>=2.0->effdet->layoutparser[layoutmodels])\n",
            "  Using cached antlr4_python3_runtime-4.9.3-py3-none-any.whl\n",
            "Requirement already satisfied: matplotlib>=2.1.0 in c:\\users\\mohamedali\\appdata\\local\\packages\\pythonsoftwarefoundation.python.3.8_qbz5n2kfra8p0\\localcache\\local-packages\\python38\\site-packages (from pycocotools>=2.0.2->effdet->layoutparser[layoutmodels]) (3.7.1)\n",
            "Requirement already satisfied: six>=1.5 in c:\\users\\mohamedali\\appdata\\local\\packages\\pythonsoftwarefoundation.python.3.8_qbz5n2kfra8p0\\localcache\\local-packages\\python38\\site-packages (from python-dateutil>=2.8.2->pandas->layoutparser[layoutmodels]) (1.16.0)\n",
            "Collecting huggingface-hub (from timm>=0.9.2->effdet->layoutparser[layoutmodels])\n",
            "  Using cached huggingface_hub-0.14.1-py3-none-any.whl (224 kB)\n",
            "Collecting safetensors (from timm>=0.9.2->effdet->layoutparser[layoutmodels])\n",
            "  Using cached safetensors-0.3.1-cp38-cp38-win_amd64.whl (263 kB)\n",
            "Requirement already satisfied: MarkupSafe>=2.0 in c:\\users\\mohamedali\\appdata\\local\\packages\\pythonsoftwarefoundation.python.3.8_qbz5n2kfra8p0\\localcache\\local-packages\\python38\\site-packages (from jinja2->torch->layoutparser[layoutmodels]) (2.1.2)\n",
            "Requirement already satisfied: pywin32>=226 in c:\\users\\mohamedali\\appdata\\local\\packages\\pythonsoftwarefoundation.python.3.8_qbz5n2kfra8p0\\localcache\\local-packages\\python38\\site-packages (from portalocker->iopath->layoutparser[layoutmodels]) (306)\n",
            "Requirement already satisfied: idna<4,>=2.5 in c:\\users\\mohamedali\\appdata\\local\\packages\\pythonsoftwarefoundation.python.3.8_qbz5n2kfra8p0\\localcache\\local-packages\\python38\\site-packages (from requests->torchvision->layoutparser[layoutmodels]) (3.4)\n",
            "Requirement already satisfied: urllib3<3,>=1.21.1 in c:\\users\\mohamedali\\appdata\\local\\packages\\pythonsoftwarefoundation.python.3.8_qbz5n2kfra8p0\\localcache\\local-packages\\python38\\site-packages (from requests->torchvision->layoutparser[layoutmodels]) (1.26.16)\n",
            "Requirement already satisfied: certifi>=2017.4.17 in c:\\users\\mohamedali\\appdata\\local\\packages\\pythonsoftwarefoundation.python.3.8_qbz5n2kfra8p0\\localcache\\local-packages\\python38\\site-packages (from requests->torchvision->layoutparser[layoutmodels]) (2023.5.7)\n",
            "Requirement already satisfied: mpmath>=0.19 in c:\\users\\mohamedali\\appdata\\local\\packages\\pythonsoftwarefoundation.python.3.8_qbz5n2kfra8p0\\localcache\\local-packages\\python38\\site-packages (from sympy->torch->layoutparser[layoutmodels]) (1.3.0)\n",
            "Requirement already satisfied: colorama in c:\\users\\mohamedali\\appdata\\local\\packages\\pythonsoftwarefoundation.python.3.8_qbz5n2kfra8p0\\localcache\\local-packages\\python38\\site-packages (from tqdm->iopath->layoutparser[layoutmodels]) (0.4.6)\n",
            "Requirement already satisfied: cffi>=1.12 in c:\\users\\mohamedali\\appdata\\local\\packages\\pythonsoftwarefoundation.python.3.8_qbz5n2kfra8p0\\localcache\\local-packages\\python38\\site-packages (from cryptography>=36.0.0->pdfminer.six==20221105->pdfplumber->layoutparser[layoutmodels]) (1.15.1)\n",
            "Requirement already satisfied: contourpy>=1.0.1 in c:\\users\\mohamedali\\appdata\\local\\packages\\pythonsoftwarefoundation.python.3.8_qbz5n2kfra8p0\\localcache\\local-packages\\python38\\site-packages (from matplotlib>=2.1.0->pycocotools>=2.0.2->effdet->layoutparser[layoutmodels]) (1.0.7)\n",
            "Requirement already satisfied: cycler>=0.10 in c:\\users\\mohamedali\\appdata\\local\\packages\\pythonsoftwarefoundation.python.3.8_qbz5n2kfra8p0\\localcache\\local-packages\\python38\\site-packages (from matplotlib>=2.1.0->pycocotools>=2.0.2->effdet->layoutparser[layoutmodels]) (0.11.0)\n",
            "Requirement already satisfied: fonttools>=4.22.0 in c:\\users\\mohamedali\\appdata\\local\\packages\\pythonsoftwarefoundation.python.3.8_qbz5n2kfra8p0\\localcache\\local-packages\\python38\\site-packages (from matplotlib>=2.1.0->pycocotools>=2.0.2->effdet->layoutparser[layoutmodels]) (4.39.4)\n",
            "Requirement already satisfied: kiwisolver>=1.0.1 in c:\\users\\mohamedali\\appdata\\local\\packages\\pythonsoftwarefoundation.python.3.8_qbz5n2kfra8p0\\localcache\\local-packages\\python38\\site-packages (from matplotlib>=2.1.0->pycocotools>=2.0.2->effdet->layoutparser[layoutmodels]) (1.4.4)\n",
            "Requirement already satisfied: packaging>=20.0 in c:\\users\\mohamedali\\appdata\\local\\packages\\pythonsoftwarefoundation.python.3.8_qbz5n2kfra8p0\\localcache\\local-packages\\python38\\site-packages (from matplotlib>=2.1.0->pycocotools>=2.0.2->effdet->layoutparser[layoutmodels]) (23.1)\n",
            "Requirement already satisfied: pyparsing>=2.3.1 in c:\\users\\mohamedali\\appdata\\local\\packages\\pythonsoftwarefoundation.python.3.8_qbz5n2kfra8p0\\localcache\\local-packages\\python38\\site-packages (from matplotlib>=2.1.0->pycocotools>=2.0.2->effdet->layoutparser[layoutmodels]) (3.0.9)\n",
            "Requirement already satisfied: importlib-resources>=3.2.0 in c:\\users\\mohamedali\\appdata\\local\\packages\\pythonsoftwarefoundation.python.3.8_qbz5n2kfra8p0\\localcache\\local-packages\\python38\\site-packages (from matplotlib>=2.1.0->pycocotools>=2.0.2->effdet->layoutparser[layoutmodels]) (5.12.0)\n",
            "Collecting fsspec (from huggingface-hub->timm>=0.9.2->effdet->layoutparser[layoutmodels])\n",
            "  Using cached fsspec-2023.5.0-py3-none-any.whl (160 kB)\n",
            "Requirement already satisfied: pycparser in c:\\users\\mohamedali\\appdata\\local\\packages\\pythonsoftwarefoundation.python.3.8_qbz5n2kfra8p0\\localcache\\local-packages\\python38\\site-packages (from cffi>=1.12->cryptography>=36.0.0->pdfminer.six==20221105->pdfplumber->layoutparser[layoutmodels]) (2.21)\n",
            "Requirement already satisfied: zipp>=3.1.0 in c:\\users\\mohamedali\\appdata\\local\\packages\\pythonsoftwarefoundation.python.3.8_qbz5n2kfra8p0\\localcache\\local-packages\\python38\\site-packages (from importlib-resources>=3.2.0->matplotlib>=2.1.0->pycocotools>=2.0.2->effdet->layoutparser[layoutmodels]) (3.15.0)\n",
            "Building wheels for collected packages: pycocotools\n",
            "  Building wheel for pycocotools (pyproject.toml): started\n",
            "  Building wheel for pycocotools (pyproject.toml): finished with status 'error'\n",
            "Failed to build pycocotools\n"
          ]
        },
        {
          "name": "stderr",
          "output_type": "stream",
          "text": [
            "  error: subprocess-exited-with-error\n",
            "  \n",
            "  × Building wheel for pycocotools (pyproject.toml) did not run successfully.\n",
            "  │ exit code: 1\n",
            "  ╰─> [16 lines of output]\n",
            "      running bdist_wheel\n",
            "      running build\n",
            "      running build_py\n",
            "      creating build\n",
            "      creating build\\lib.win-amd64-cpython-38\n",
            "      creating build\\lib.win-amd64-cpython-38\\pycocotools\n",
            "      copying pycocotools\\coco.py -> build\\lib.win-amd64-cpython-38\\pycocotools\n",
            "      copying pycocotools\\cocoeval.py -> build\\lib.win-amd64-cpython-38\\pycocotools\n",
            "      copying pycocotools\\mask.py -> build\\lib.win-amd64-cpython-38\\pycocotools\n",
            "      copying pycocotools\\__init__.py -> build\\lib.win-amd64-cpython-38\\pycocotools\n",
            "      running build_ext\n",
            "      cythoning pycocotools/_mask.pyx to pycocotools\\_mask.c\n",
            "      C:\\Users\\MohamedAli\\AppData\\Local\\Temp\\pip-build-env-fy6diieh\\overlay\\Lib\\site-packages\\Cython\\Compiler\\Main.py:369: FutureWarning: Cython directive 'language_level' not set, using 2 for now (Py2). This will change in a later release! File: C:\\Users\\MohamedAli\\AppData\\Local\\Temp\\pip-install-8zttlyes\\pycocotools_ad318c0d52e44e77aa3d51552d819f81\\pycocotools\\_mask.pyx\n",
            "        tree = Parsing.p_module(s, pxd, full_module_name)\n",
            "      building 'pycocotools._mask' extension\n",
            "      error: Microsoft Visual C++ 14.0 or greater is required. Get it with \"Microsoft C++ Build Tools\": https://visualstudio.microsoft.com/visual-cpp-build-tools/\n",
            "      [end of output]\n",
            "  \n",
            "  note: This error originates from a subprocess, and is likely not a problem with pip.\n",
            "  ERROR: Failed building wheel for pycocotools\n",
            "ERROR: Could not build wheels for pycocotools, which is required to install pyproject.toml-based projects\n"
          ]
        },
        {
          "name": "stdout",
          "output_type": "stream",
          "text": [
            "Requirement already satisfied: layoutparser[ocr] in c:\\users\\mohamedali\\appdata\\local\\packages\\pythonsoftwarefoundation.python.3.8_qbz5n2kfra8p0\\localcache\\local-packages\\python38\\site-packages (0.3.4)\n",
            "Requirement already satisfied: numpy in c:\\users\\mohamedali\\appdata\\local\\packages\\pythonsoftwarefoundation.python.3.8_qbz5n2kfra8p0\\localcache\\local-packages\\python38\\site-packages (from layoutparser[ocr]) (1.24.3)\n",
            "Requirement already satisfied: opencv-python in c:\\users\\mohamedali\\appdata\\local\\packages\\pythonsoftwarefoundation.python.3.8_qbz5n2kfra8p0\\localcache\\local-packages\\python38\\site-packages (from layoutparser[ocr]) (4.7.0.72)\n",
            "Requirement already satisfied: scipy in c:\\users\\mohamedali\\appdata\\local\\packages\\pythonsoftwarefoundation.python.3.8_qbz5n2kfra8p0\\localcache\\local-packages\\python38\\site-packages (from layoutparser[ocr]) (1.10.1)\n",
            "Requirement already satisfied: pandas in c:\\users\\mohamedali\\appdata\\local\\packages\\pythonsoftwarefoundation.python.3.8_qbz5n2kfra8p0\\localcache\\local-packages\\python38\\site-packages (from layoutparser[ocr]) (2.0.1)\n",
            "Requirement already satisfied: pillow in c:\\users\\mohamedali\\appdata\\local\\packages\\pythonsoftwarefoundation.python.3.8_qbz5n2kfra8p0\\localcache\\local-packages\\python38\\site-packages (from layoutparser[ocr]) (9.5.0)\n",
            "Requirement already satisfied: pyyaml>=5.1 in c:\\users\\mohamedali\\appdata\\local\\packages\\pythonsoftwarefoundation.python.3.8_qbz5n2kfra8p0\\localcache\\local-packages\\python38\\site-packages (from layoutparser[ocr]) (6.0)\n",
            "Requirement already satisfied: iopath in c:\\users\\mohamedali\\appdata\\local\\packages\\pythonsoftwarefoundation.python.3.8_qbz5n2kfra8p0\\localcache\\local-packages\\python38\\site-packages (from layoutparser[ocr]) (0.1.10)\n",
            "Requirement already satisfied: pdfplumber in c:\\users\\mohamedali\\appdata\\local\\packages\\pythonsoftwarefoundation.python.3.8_qbz5n2kfra8p0\\localcache\\local-packages\\python38\\site-packages (from layoutparser[ocr]) (0.9.0)\n",
            "Requirement already satisfied: pdf2image in c:\\users\\mohamedali\\appdata\\local\\packages\\pythonsoftwarefoundation.python.3.8_qbz5n2kfra8p0\\localcache\\local-packages\\python38\\site-packages (from layoutparser[ocr]) (1.16.3)\n",
            "Requirement already satisfied: google-cloud-vision==1 in c:\\users\\mohamedali\\appdata\\local\\packages\\pythonsoftwarefoundation.python.3.8_qbz5n2kfra8p0\\localcache\\local-packages\\python38\\site-packages (from layoutparser[ocr]) (1.0.0)\n",
            "Requirement already satisfied: pytesseract in c:\\users\\mohamedali\\appdata\\local\\packages\\pythonsoftwarefoundation.python.3.8_qbz5n2kfra8p0\\localcache\\local-packages\\python38\\site-packages (from layoutparser[ocr]) (0.3.10)\n",
            "Requirement already satisfied: google-api-core[grpc]<2.0.0dev,>=1.14.0 in c:\\users\\mohamedali\\appdata\\local\\packages\\pythonsoftwarefoundation.python.3.8_qbz5n2kfra8p0\\localcache\\local-packages\\python38\\site-packages (from google-cloud-vision==1->layoutparser[ocr]) (1.34.0)\n",
            "Requirement already satisfied: tqdm in c:\\users\\mohamedali\\appdata\\local\\packages\\pythonsoftwarefoundation.python.3.8_qbz5n2kfra8p0\\localcache\\local-packages\\python38\\site-packages (from iopath->layoutparser[ocr]) (4.65.0)\n",
            "Requirement already satisfied: typing_extensions in c:\\users\\mohamedali\\appdata\\local\\packages\\pythonsoftwarefoundation.python.3.8_qbz5n2kfra8p0\\localcache\\local-packages\\python38\\site-packages (from iopath->layoutparser[ocr]) (4.5.0)\n",
            "Requirement already satisfied: portalocker in c:\\users\\mohamedali\\appdata\\local\\packages\\pythonsoftwarefoundation.python.3.8_qbz5n2kfra8p0\\localcache\\local-packages\\python38\\site-packages (from iopath->layoutparser[ocr]) (2.7.0)\n",
            "Requirement already satisfied: python-dateutil>=2.8.2 in c:\\users\\mohamedali\\appdata\\local\\packages\\pythonsoftwarefoundation.python.3.8_qbz5n2kfra8p0\\localcache\\local-packages\\python38\\site-packages (from pandas->layoutparser[ocr]) (2.8.2)\n",
            "Requirement already satisfied: pytz>=2020.1 in c:\\users\\mohamedali\\appdata\\local\\packages\\pythonsoftwarefoundation.python.3.8_qbz5n2kfra8p0\\localcache\\local-packages\\python38\\site-packages (from pandas->layoutparser[ocr]) (2023.3)\n",
            "Requirement already satisfied: tzdata>=2022.1 in c:\\users\\mohamedali\\appdata\\local\\packages\\pythonsoftwarefoundation.python.3.8_qbz5n2kfra8p0\\localcache\\local-packages\\python38\\site-packages (from pandas->layoutparser[ocr]) (2023.3)\n",
            "Requirement already satisfied: pdfminer.six==20221105 in c:\\users\\mohamedali\\appdata\\local\\packages\\pythonsoftwarefoundation.python.3.8_qbz5n2kfra8p0\\localcache\\local-packages\\python38\\site-packages (from pdfplumber->layoutparser[ocr]) (20221105)\n",
            "Requirement already satisfied: Wand>=0.6.10 in c:\\users\\mohamedali\\appdata\\local\\packages\\pythonsoftwarefoundation.python.3.8_qbz5n2kfra8p0\\localcache\\local-packages\\python38\\site-packages (from pdfplumber->layoutparser[ocr]) (0.6.11)\n",
            "Requirement already satisfied: charset-normalizer>=2.0.0 in c:\\users\\mohamedali\\appdata\\local\\packages\\pythonsoftwarefoundation.python.3.8_qbz5n2kfra8p0\\localcache\\local-packages\\python38\\site-packages (from pdfminer.six==20221105->pdfplumber->layoutparser[ocr]) (3.1.0)\n",
            "Requirement already satisfied: cryptography>=36.0.0 in c:\\users\\mohamedali\\appdata\\local\\packages\\pythonsoftwarefoundation.python.3.8_qbz5n2kfra8p0\\localcache\\local-packages\\python38\\site-packages (from pdfminer.six==20221105->pdfplumber->layoutparser[ocr]) (40.0.2)\n",
            "Requirement already satisfied: packaging>=21.3 in c:\\users\\mohamedali\\appdata\\local\\packages\\pythonsoftwarefoundation.python.3.8_qbz5n2kfra8p0\\localcache\\local-packages\\python38\\site-packages (from pytesseract->layoutparser[ocr]) (23.1)\n",
            "Requirement already satisfied: googleapis-common-protos<2.0dev,>=1.56.2 in c:\\users\\mohamedali\\appdata\\local\\packages\\pythonsoftwarefoundation.python.3.8_qbz5n2kfra8p0\\localcache\\local-packages\\python38\\site-packages (from google-api-core[grpc]<2.0.0dev,>=1.14.0->google-cloud-vision==1->layoutparser[ocr]) (1.59.0)\n",
            "Requirement already satisfied: protobuf!=3.20.0,!=3.20.1,!=4.21.0,!=4.21.1,!=4.21.2,!=4.21.3,!=4.21.4,!=4.21.5,<4.0.0dev,>=3.19.5 in c:\\users\\mohamedali\\appdata\\local\\packages\\pythonsoftwarefoundation.python.3.8_qbz5n2kfra8p0\\localcache\\local-packages\\python38\\site-packages (from google-api-core[grpc]<2.0.0dev,>=1.14.0->google-cloud-vision==1->layoutparser[ocr]) (3.20.3)\n",
            "Requirement already satisfied: google-auth<3.0dev,>=1.25.0 in c:\\users\\mohamedali\\appdata\\local\\packages\\pythonsoftwarefoundation.python.3.8_qbz5n2kfra8p0\\localcache\\local-packages\\python38\\site-packages (from google-api-core[grpc]<2.0.0dev,>=1.14.0->google-cloud-vision==1->layoutparser[ocr]) (2.18.1)\n",
            "Requirement already satisfied: requests<3.0.0dev,>=2.18.0 in c:\\users\\mohamedali\\appdata\\local\\packages\\pythonsoftwarefoundation.python.3.8_qbz5n2kfra8p0\\localcache\\local-packages\\python38\\site-packages (from google-api-core[grpc]<2.0.0dev,>=1.14.0->google-cloud-vision==1->layoutparser[ocr]) (2.31.0)\n",
            "Requirement already satisfied: grpcio<2.0dev,>=1.33.2 in c:\\users\\mohamedali\\appdata\\local\\packages\\pythonsoftwarefoundation.python.3.8_qbz5n2kfra8p0\\localcache\\local-packages\\python38\\site-packages (from google-api-core[grpc]<2.0.0dev,>=1.14.0->google-cloud-vision==1->layoutparser[ocr]) (1.54.2)\n",
            "Requirement already satisfied: grpcio-status<2.0dev,>=1.33.2 in c:\\users\\mohamedali\\appdata\\local\\packages\\pythonsoftwarefoundation.python.3.8_qbz5n2kfra8p0\\localcache\\local-packages\\python38\\site-packages (from google-api-core[grpc]<2.0.0dev,>=1.14.0->google-cloud-vision==1->layoutparser[ocr]) (1.48.2)\n",
            "Requirement already satisfied: six>=1.5 in c:\\users\\mohamedali\\appdata\\local\\packages\\pythonsoftwarefoundation.python.3.8_qbz5n2kfra8p0\\localcache\\local-packages\\python38\\site-packages (from python-dateutil>=2.8.2->pandas->layoutparser[ocr]) (1.16.0)\n",
            "Requirement already satisfied: pywin32>=226 in c:\\users\\mohamedali\\appdata\\local\\packages\\pythonsoftwarefoundation.python.3.8_qbz5n2kfra8p0\\localcache\\local-packages\\python38\\site-packages (from portalocker->iopath->layoutparser[ocr]) (306)\n",
            "Requirement already satisfied: colorama in c:\\users\\mohamedali\\appdata\\local\\packages\\pythonsoftwarefoundation.python.3.8_qbz5n2kfra8p0\\localcache\\local-packages\\python38\\site-packages (from tqdm->iopath->layoutparser[ocr]) (0.4.6)\n",
            "Requirement already satisfied: cffi>=1.12 in c:\\users\\mohamedali\\appdata\\local\\packages\\pythonsoftwarefoundation.python.3.8_qbz5n2kfra8p0\\localcache\\local-packages\\python38\\site-packages (from cryptography>=36.0.0->pdfminer.six==20221105->pdfplumber->layoutparser[ocr]) (1.15.1)\n",
            "Requirement already satisfied: cachetools<6.0,>=2.0.0 in c:\\users\\mohamedali\\appdata\\local\\packages\\pythonsoftwarefoundation.python.3.8_qbz5n2kfra8p0\\localcache\\local-packages\\python38\\site-packages (from google-auth<3.0dev,>=1.25.0->google-api-core[grpc]<2.0.0dev,>=1.14.0->google-cloud-vision==1->layoutparser[ocr]) (5.3.0)\n",
            "Requirement already satisfied: pyasn1-modules>=0.2.1 in c:\\users\\mohamedali\\appdata\\local\\packages\\pythonsoftwarefoundation.python.3.8_qbz5n2kfra8p0\\localcache\\local-packages\\python38\\site-packages (from google-auth<3.0dev,>=1.25.0->google-api-core[grpc]<2.0.0dev,>=1.14.0->google-cloud-vision==1->layoutparser[ocr]) (0.3.0)\n",
            "Requirement already satisfied: urllib3<2.0 in c:\\users\\mohamedali\\appdata\\local\\packages\\pythonsoftwarefoundation.python.3.8_qbz5n2kfra8p0\\localcache\\local-packages\\python38\\site-packages (from google-auth<3.0dev,>=1.25.0->google-api-core[grpc]<2.0.0dev,>=1.14.0->google-cloud-vision==1->layoutparser[ocr]) (1.26.16)\n",
            "Requirement already satisfied: rsa<5,>=3.1.4 in c:\\users\\mohamedali\\appdata\\local\\packages\\pythonsoftwarefoundation.python.3.8_qbz5n2kfra8p0\\localcache\\local-packages\\python38\\site-packages (from google-auth<3.0dev,>=1.25.0->google-api-core[grpc]<2.0.0dev,>=1.14.0->google-cloud-vision==1->layoutparser[ocr]) (4.9)\n",
            "Requirement already satisfied: idna<4,>=2.5 in c:\\users\\mohamedali\\appdata\\local\\packages\\pythonsoftwarefoundation.python.3.8_qbz5n2kfra8p0\\localcache\\local-packages\\python38\\site-packages (from requests<3.0.0dev,>=2.18.0->google-api-core[grpc]<2.0.0dev,>=1.14.0->google-cloud-vision==1->layoutparser[ocr]) (3.4)\n",
            "Requirement already satisfied: certifi>=2017.4.17 in c:\\users\\mohamedali\\appdata\\local\\packages\\pythonsoftwarefoundation.python.3.8_qbz5n2kfra8p0\\localcache\\local-packages\\python38\\site-packages (from requests<3.0.0dev,>=2.18.0->google-api-core[grpc]<2.0.0dev,>=1.14.0->google-cloud-vision==1->layoutparser[ocr]) (2023.5.7)\n",
            "Requirement already satisfied: pycparser in c:\\users\\mohamedali\\appdata\\local\\packages\\pythonsoftwarefoundation.python.3.8_qbz5n2kfra8p0\\localcache\\local-packages\\python38\\site-packages (from cffi>=1.12->cryptography>=36.0.0->pdfminer.six==20221105->pdfplumber->layoutparser[ocr]) (2.21)\n",
            "Requirement already satisfied: pyasn1<0.6.0,>=0.4.6 in c:\\users\\mohamedali\\appdata\\local\\packages\\pythonsoftwarefoundation.python.3.8_qbz5n2kfra8p0\\localcache\\local-packages\\python38\\site-packages (from pyasn1-modules>=0.2.1->google-auth<3.0dev,>=1.25.0->google-api-core[grpc]<2.0.0dev,>=1.14.0->google-cloud-vision==1->layoutparser[ocr]) (0.5.0)\n"
          ]
        }
      ],
      "source": [
        "#!pip install torchvision && pip install \"git+https://github.com/facebookresearch/detectron2.git@v0.5#egg=detectron2\"\n",
        "#!pip install 'git+https://github.com/facebookresearch/detectron2.git@v0.4#egg=detectron2' \n",
        "!pip install layoutparser \n",
        "!pip install --upgrade wheel\n",
        "!pip install --upgrade setuptools\n",
        "!pip3 install -U spacy\n",
        "!python -m spacy download en_core_web_trf\n",
        "!pip install \"layoutparser[layoutmodels]\" \n",
        "!pip install \"layoutparser[ocr]\" \n",
        "!pip install \"layoutparser[paddledetection]\"\n",
        "!pip install \"layoutparser[effdet]\"\n",
        "!pip install 'spacy[transformers]'\n",
        "!pip install pillow\n",
        "!pip install pdfplumber\n",
        "!pip install pdf2image\n",
        "!pip install tqdm\n",
        "!pip install pybtex\n",
        "!sudo apt install tesseract-ocr\n",
        "!pip install pytesseract\n",
        "!pip install python-docx\n",
        "!apt-get install -y poppler-utils"
      ]
    },
    {
      "attachments": {},
      "cell_type": "markdown",
      "metadata": {
        "id": "1EVcrOgbEvih"
      },
      "source": [
        "# Import The Libraries"
      ]
    },
    {
      "cell_type": "code",
      "execution_count": 1,
      "metadata": {
        "colab": {
          "base_uri": "https://localhost:8080/"
        },
        "id": "MaR5-Z48E2Db",
        "outputId": "822b2d7b-65db-4808-8270-2172b49903b8"
      },
      "outputs": [
        {
          "name": "stdout",
          "output_type": "stream",
          "text": [
            "0.9.0\n"
          ]
        }
      ],
      "source": [
        "import re\n",
        "import os\n",
        "import cv2\n",
        "import spacy\n",
        "import string\n",
        "import spacy.cli\n",
        "import numpy as np\n",
        "import pytesseract\n",
        "import pandas as pd\n",
        "import torch.nn as nn\n",
        "import en_core_web_trf\n",
        "import pybtex.database\n",
        "import spacy_transformers\n",
        "import layoutparser as lp\n",
        "#-----------------------------------#\n",
        "import traceback\n",
        "import multiprocessing\n",
        "from tqdm import tqdm\n",
        "import pdf2image\n",
        "import pdfplumber\n",
        "from PIL import Image\n",
        "print(pdfplumber.__version__)\n",
        "from docx import Document"
      ]
    },
    {
      "attachments": {},
      "cell_type": "markdown",
      "metadata": {
        "id": "6b6Jux1JE6Za"
      },
      "source": [
        "#  The 'pdf_Splitter' Function\n",
        "\n",
        "\n",
        "---\n",
        "\n",
        "This function is responsible for dividing the file into images\n",
        "And save it in a path and send the path to the next function\n"
      ]
    },
    {
      "cell_type": "code",
      "execution_count": 2,
      "metadata": {
        "id": "FLE3u3fzmOcB"
      },
      "outputs": [],
      "source": [
        "def pdf_Splitter(pdf_file, data_dir):\n",
        "\n",
        "    try:\n",
        "        pdf_images = pdf2image.convert_from_path(os.path.join(data_dir, pdf_file))\n",
        "    except Exception as e:\n",
        "      print(\"Error during PDF conversion:\")\n",
        "      print(traceback.format_exc())\n",
        "      return\n",
        "    \n",
        "    try:\n",
        "        pdf = pdfplumber.open(os.path.join(data_dir, pdf_file))\n",
        "    except Exception as e:\n",
        "      print(\"Error occurred while opening the PDF file:\")\n",
        "      print(traceback.format_exc())  \n",
        "      return\n",
        "    \n",
        "    for page_id in tqdm(range(len(pdf.pages))):\n",
        "\n",
        "        img_out='/content/pdf_img'\n",
        "        if not os.path.exists(img_out):\n",
        "            os.makedirs(img_out)\n",
        "\n",
        "        img_path= (img_out+'/'+pdf_file.replace('.pdf', '') + '_{}_ori.jpg'.format(str(page_id)))\n",
        "        pdf_images[page_id].save(img_path)\n",
        "\n",
        "    return img_out #give me  the images dirc "
      ]
    },
    {
      "attachments": {},
      "cell_type": "markdown",
      "metadata": {
        "id": "uWMuFCfmFq0R"
      },
      "source": [
        "# The '**preprocess**' Function \n",
        "\n",
        "\n",
        "---\n",
        "This function is responsible for extracting the words from the image using OCR and sending the image and words as an output\n"
      ]
    },
    {
      "cell_type": "code",
      "execution_count": 3,
      "metadata": {
        "id": "UKtv9KSlz42Y"
      },
      "outputs": [],
      "source": [
        "def preprocess(image_path):\n",
        "\n",
        "    image = Image.open(image_path)\n",
        "    image = image.convert(\"RGB\")\n",
        "\n",
        "    width, height = image.size\n",
        "    w_scale = 1000 / width\n",
        "    h_scale = 1000 / height\n",
        "    ocr_df = pytesseract.image_to_data(image, output_type='data.frame')#check done\n",
        "    ocr_df = ocr_df.dropna().assign(left_scaled=ocr_df.left * w_scale,\n",
        "                    width_scaled=ocr_df.width * w_scale,\n",
        "                    top_scaled=ocr_df.top * h_scale,\n",
        "                    height_scaled=ocr_df.height * h_scale,\n",
        "                    right_scaled=lambda x: x.left_scaled + x.width_scaled,\n",
        "                    bottom_scaled=lambda x: x.top_scaled + x.height_scaled)\n",
        "    float_cols = ocr_df.select_dtypes('float').columns\n",
        "    ocr_df[float_cols] = ocr_df[float_cols].round(0).astype(int)\n",
        "    ocr_df = ocr_df.replace(r'^\\s*$!', np.nan, regex=True)\n",
        "    ocr_df = ocr_df.dropna().reset_index(drop=True)\n",
        "    words = list(ocr_df.text)\n",
        "    return image, words"
      ]
    },
    {
      "attachments": {},
      "cell_type": "markdown",
      "metadata": {
        "id": "z5ma6hiPGPAZ"
      },
      "source": [
        "# The '**get_title_of_paper**' Function\n",
        "\n",
        "\n",
        "---\n",
        "This function uses the first image to extract the title from it only by '**mask_rcnn_X_101_32x8d_FPN_3x** ', and then sends it to the next function\n"
      ]
    },
    {
      "cell_type": "code",
      "execution_count": 22,
      "metadata": {
        "id": "r4CdxtgD7mLq"
      },
      "outputs": [],
      "source": [
        "def Models_Load():\n",
        "  nlp_trf = spacy.load(\"en_core_web_trf\")\n",
        "  nlp_trf = en_core_web_trf.load()\n",
        "  model = lp.Detectron2LayoutModel(config_path = \"/content/drive/MyDrive/GPFINALDRIVE/in_ex/X101/X101.yaml\",model_path = \"/content/drive/MyDrive/GPFINALDRIVE/in_ex/X101/model.pth\",label_map={0: \"Abstract\", 1: \"Author\", 2: \"Caption\", 3:\"Date\", 4:\"Equation\",5: \"Figure\", 6: \"Footer\", 7: \"List\", 8:\"Paragraph\", 9:\"Reference\", 10: \"Section\", 11: \"Table\", 12:\"Title\"})\n",
        "  return nlp_trf,model"
      ]
    },
    {
      "cell_type": "code",
      "execution_count": 42,
      "metadata": {
        "id": "Zhi7-G899m-a"
      },
      "outputs": [],
      "source": [
        "def extract_informations(dir_image,model):\n",
        "  image = cv2.imread(dir_image)\n",
        "  image = image[..., ::-1] \n",
        "  #********************************************************\n",
        "  layout = model.detect(image) # You need to load the image somewhere else, e.g., image = cv2.imread(...)\n",
        "  #lp.draw_box(image, layout,)\n",
        "  lp.draw_box(image, layout)\n",
        "  #************************************************************\n",
        "  title_blocks = lp.Layout([b for b in layout if b.type==\"Title\"])\n",
        "  author_blocks = lp.Layout([b for b in layout if b.type==\"Author\"])\n",
        "  date_blocks = lp.Layout([b for b in layout if b.type==\"Date\"])\n",
        "  abstract_blocks = lp.Layout([b for b in layout if b.type==\"Abstract\"])\n",
        "  #Paragraph_blocks = lp.Layout([b for b in layout if b.type==\"Paragraph\"])\n",
        "  #*************************************************************\n",
        "  return title_blocks, author_blocks, date_blocks, abstract_blocks, image "
      ]
    },
    {
      "cell_type": "code",
      "execution_count": 24,
      "metadata": {
        "id": "BdIeb-mj4U0Y"
      },
      "outputs": [],
      "source": [
        "def Decode_text(TextBlock ,image):\n",
        "  text_blocks = lp.Layout([b for b in TextBlock])\n",
        "  #*************************************************************\n",
        "  h, w = image.shape[:2]\n",
        "  left_interval = lp.Interval(0, w/2*1.05, axis='x').put_on_canvas(image)\n",
        "  left_blocks = text_blocks.filter_by(left_interval, center=True)\n",
        "  left_blocks.sort(key = lambda b:b.coordinates[1])\n",
        "\n",
        "  right_blocks = [b for b in text_blocks if b not in left_blocks]\n",
        "  right_blocks.sort(key = lambda b:b.coordinates[1])\n",
        "  # And finally combine the two list and add the index\n",
        "  # according to the order\n",
        "  text_blocks = lp.Layout([b.set(id = idx) for idx, b in enumerate(left_blocks + right_blocks)])\n",
        "  ocr_agent = lp.TesseractAgent(languages='eng') \n",
        "  for block in text_blocks:\n",
        "    segment_image = (block\n",
        "                       .pad(left=5, right=5, top=5, bottom=5)\n",
        "                       .crop_image(image))\n",
        "      \n",
        "    text = ocr_agent.detect(segment_image)\n",
        "    block.set(text=text, inplace=True)\n",
        "    Decoded_Text=text_blocks.get_texts()\n",
        "\n",
        "    return Decoded_Text"
      ]
    },
    {
      "cell_type": "code",
      "execution_count": 25,
      "metadata": {
        "id": "e3miA4RLrtF6"
      },
      "outputs": [],
      "source": [
        "def extract_emails(doc):\n",
        "  emails=[]\n",
        "  regex = r'\\b[A-Za-z0-9._%+-]+@[A-Za-z0-9.-]+\\.[A-Z|a-z]{2,7}\\b'\n",
        "  for w in doc:\n",
        "    if w.pos_ == 'X':\n",
        "      if(re.fullmatch(regex, w.text)):\n",
        "        emails.append(w.text)\n",
        "  return emails"
      ]
    },
    {
      "cell_type": "code",
      "execution_count": 26,
      "metadata": {
        "id": "B8-un1FIvRx4"
      },
      "outputs": [],
      "source": [
        "def extract_author_name(doc):\n",
        "  authors_names=[]\n",
        "  for ent in doc.ents:\n",
        "    if ent.label_ == 'PERSON':\n",
        "      authors_names.append(ent.text)\n",
        "  return authors_names"
      ]
    },
    {
      "cell_type": "code",
      "execution_count": 27,
      "metadata": {
        "id": "T1AnfrtczYHO"
      },
      "outputs": [],
      "source": [
        "def extract_author_department(doc):\n",
        "  authors_department=[]\n",
        "  for ent in doc.ents:\n",
        "    if ent.label_ == 'ORG':\n",
        "      authors_department.append(ent.text)\n",
        "  return authors_department"
      ]
    },
    {
      "cell_type": "code",
      "execution_count": 28,
      "metadata": {
        "id": "JHu6xFgA7MDn"
      },
      "outputs": [],
      "source": [
        "def extract_paper_date(doc):\n",
        "  paper_date=[]\n",
        "  for ent in doc.ents:\n",
        "    if ent.label_ == 'DATE':\n",
        "      paper_date.append(ent.text)\n",
        "  return paper_date"
      ]
    },
    {
      "attachments": {},
      "cell_type": "markdown",
      "metadata": {
        "id": "ca7EeN1UHXeo"
      },
      "source": [
        "# Extract Title, Auther ,Date ,Department \n",
        "\n",
        "\n",
        "---\n",
        "\n",
        "\n",
        " To make the Citation"
      ]
    },
    {
      "cell_type": "code",
      "execution_count": 29,
      "metadata": {
        "id": "8pe2LoQdgodz"
      },
      "outputs": [],
      "source": [
        "def Authers_and_Departments(AutherFromX101,TrfModel):\n",
        "  extractAuthorName=[]\n",
        "  authorDepartment=[]\n",
        "  #paperDate=[]\n",
        "  doc_trf = TrfModel(AutherFromX101)\n",
        "  AuthorName = extract_author_name(doc_trf)\n",
        "  authorDepartment = extract_author_department(doc_trf)\n",
        "  #paperDate_trf = extract_paper_date(doc_trf)\n",
        "  return AuthorName,authorDepartment"
      ]
    },
    {
      "attachments": {},
      "cell_type": "markdown",
      "metadata": {
        "id": "Uss2fUFFHQ8I"
      },
      "source": [
        "# Citation Format Section\n",
        "\n",
        "\n",
        "---\n",
        "\n"
      ]
    },
    {
      "cell_type": "code",
      "execution_count": 30,
      "metadata": {
        "id": "gmuYj6Kmh3eT"
      },
      "outputs": [],
      "source": [
        "def make_citation_APA_format(authorName,authorDepartment,paperDate,paperTitle):\n",
        "  final_citation=''\n",
        "  for name in authorName:\n",
        "    final_citation=final_citation + name +\",\"\n",
        "  \n",
        "  final_citation=final_citation + \".\"\n",
        "\n",
        "  for date in paperDate:\n",
        "    final_citation = final_citation +\"(\"+ date +\")\" +\".\"\n",
        "  \n",
        "  final_citation=final_citation + paperTitle + \".\"\n",
        "\n",
        "  for departmen in authorDepartment:\n",
        "    final_citation=final_citation + departmen +\", \"\n",
        "  \n",
        "  final_citation=final_citation + \".\"\n",
        "  \n",
        "  return final_citation"
      ]
    },
    {
      "cell_type": "code",
      "execution_count": 31,
      "metadata": {
        "id": "yDGKgKwHjTTq"
      },
      "outputs": [],
      "source": [
        "def make_citation_MLA_format(authorName,authorDepartment,paperDate,paperTitle):\n",
        "  final_citation=''\n",
        "  # first Author\n",
        "  for name in authorName:\n",
        "    final_citation=final_citation + name +\",\"\n",
        "  \n",
        "  final_citation=final_citation + \".\"\n",
        "  # the second Title\n",
        "  final_citation=final_citation + paperTitle + \".\"\n",
        "\n",
        "  # the third Department or Publisher or organization\n",
        "  for departmen in authorDepartment:\n",
        "    final_citation=final_citation + departmen +\", \"\n",
        "\n",
        "  final_citation=final_citation + \".\"\n",
        "  # the fourth Date\n",
        "  for date in paperDate:\n",
        "    final_citation = final_citation +\"(\"+ date +\")\" +\".\"\n",
        "  \n",
        "  return final_citation"
      ]
    },
    {
      "cell_type": "code",
      "execution_count": 32,
      "metadata": {
        "id": "VRe7EdqtmWGS"
      },
      "outputs": [],
      "source": [
        "def make_citation_Chicago_format(authorName,authorDepartment,paperDate,paperTitle):\n",
        "  final_citation=''\n",
        "  for name in authorName:\n",
        "    final_citation=final_citation + name +\",\"\n",
        "  \n",
        "  final_citation=final_citation + \".\"\n",
        "\n",
        "  for date in paperDate:\n",
        "    final_citation = final_citation +\"(\"+ date +\")\" +\".\"\n",
        "  \n",
        "  final_citation=final_citation + paperTitle + \".\"\n",
        "\n",
        "  for departmen in authorDepartment:\n",
        "    final_citation=final_citation + departmen +\", \"\n",
        "  \n",
        "  final_citation=final_citation + \".\"\n",
        "  \n",
        "  return final_citation"
      ]
    },
    {
      "attachments": {},
      "cell_type": "markdown",
      "metadata": {
        "id": "kpQ5RNoqHwkQ"
      },
      "source": [
        "# Test Function to  test all citation format"
      ]
    },
    {
      "cell_type": "code",
      "execution_count": 51,
      "metadata": {
        "id": "GeqNQNSpkwUy"
      },
      "outputs": [],
      "source": [
        "def GenerateAllCitationTEST(directory ,model101,modelTRF ):\n",
        "      citaion_APA = ''\n",
        "      citaion_MLA = ''\n",
        "      citaion_Chicago = ''\n",
        "      if os.path.exists(directory):\n",
        "          file_list = os.listdir(directory)\n",
        "          for filename in file_list:\n",
        "              \n",
        "              if filename.endswith('_0_ori.jpg') or filename.endswith('_0_ori.jpeg'):\n",
        "                  image_path = os.path.join(directory, filename)\n",
        "                  title, author, date, abstract, image =  extract_informations(image_path,model101)\n",
        "                  #------------------------------------\n",
        "                  Title = Decode_text(title , image)\n",
        "                  Title = ' '.join([a if a is not None else '' for a in Title])\n",
        "                  print(\"Title :\",Title)\n",
        "                  TotalAuthor = Decode_text(author , image)\n",
        "                  TotalAuthor = ' '.join([a if a is not None else '' for a in TotalAuthor])\n",
        "                  print(\"TotalAuthor :\",TotalAuthor)\n",
        "                  Date = Decode_text(date , image)\n",
        "                  if Date is not None : \n",
        "                    Date = ' '.join([a if a is not None else '' for a in Date])\n",
        "                  else:\n",
        "                     Date = str(Date)\n",
        "                  Abstract = Decode_text(abstract , image)\n",
        "                  Abstract = ' '.join([a if a is not None else '' for a in Abstract])\n",
        "                  #------------------------------------\n",
        "                  Author,Department =Authers_and_Departments(TotalAuthor,modelTRF)\n",
        "                  citaion_APA = make_citation_APA_format(Author,Department,Date,Title)\n",
        "                  citaion_MLA = make_citation_MLA_format(Author,Department,Date,Title)\n",
        "                  citaion_Chicago = make_citation_Chicago_format(Author,Department,Date,Title)\n",
        "      else:\n",
        "          print(f\"Directory '{directory}' does not exist.\")\n",
        "      return citaion_APA,citaion_MLA,citaion_Chicago"
      ]
    },
    {
      "attachments": {},
      "cell_type": "markdown",
      "metadata": {
        "id": "4waOn3EbH21h"
      },
      "source": [
        "# The main Function \n"
      ]
    },
    {
      "cell_type": "code",
      "execution_count": 34,
      "metadata": {
        "id": "HRVv_flesbEj"
      },
      "outputs": [],
      "source": [
        "def go_a_head(pdf_data_dir, x101model, trfmodel):\n",
        "      images_path =''\n",
        "      All_Pdf_citation = []\n",
        "      pdf_files = list(os.listdir(pdf_data_dir))\n",
        "      pdf_files = [t for t in pdf_files if t.endswith('.pdf')]\n",
        "      \n",
        "      for pdf_file in pdf_files:\n",
        "        images_path =pdf_Splitter(pdf_file, pdf_data_dir)\n",
        "      \n",
        "\n",
        "      print(images_path)\n",
        "      citaion_APA,citaion_MLA,citaion_Chicago = GenerateAllCitationTEST(images_path ,x101model , trfmodel)\n",
        "      return citaion_APA,citaion_MLA,citaion_Chicago"
      ]
    },
    {
      "attachments": {},
      "cell_type": "markdown",
      "metadata": {
        "id": "iC_stDofH8d5"
      },
      "source": [
        "\n",
        "\n",
        ">Download Format\n",
        "\n",
        "\n"
      ]
    },
    {
      "cell_type": "code",
      "execution_count": null,
      "metadata": {
        "id": "OeSKPlmD4bry"
      },
      "outputs": [],
      "source": [
        "def valid_xml_char_ordinal(c):\n",
        "    codepoint = ord(c)\n",
        "    # conditions ordered by presumed frequency\n",
        "    return (\n",
        "        0x20 <= codepoint <= 0xD7FF or\n",
        "        codepoint in (0x9, 0xA, 0xD) or\n",
        "        0xE000 <= codepoint <= 0xFFFD or\n",
        "        0x10000 <= codepoint <= 0x10FFFF\n",
        "        )"
      ]
    },
    {
      "attachments": {},
      "cell_type": "markdown",
      "metadata": {
        "id": "JN6KZfUUIlS5"
      },
      "source": [
        "\n",
        "\n",
        "> Word Format\n",
        "\n"
      ]
    },
    {
      "cell_type": "code",
      "execution_count": null,
      "metadata": {
        "id": "Vk8OO5pS4hr6"
      },
      "outputs": [],
      "source": [
        "def dowload_citation_with_docx_format(citation):\n",
        "  cleaned_string = ''.join(c for c in citation if valid_xml_char_ordinal(c))\n",
        "  # Create a new Word document\n",
        "  document = Document()\n",
        "  # Add content to the document\n",
        "  document.add_heading('Reference', level=1)\n",
        "  document.add_paragraph(cleaned_string)\n",
        "  # Save the document\n",
        "  document.save('/content/Reference.docx')"
      ]
    },
    {
      "attachments": {},
      "cell_type": "markdown",
      "metadata": {
        "id": "oAvDqPbEIqqx"
      },
      "source": [
        "\n",
        "\n",
        "> Bibx Format\n",
        "\n"
      ]
    },
    {
      "cell_type": "code",
      "execution_count": null,
      "metadata": {
        "id": "o_DdXQhI4nsi"
      },
      "outputs": [],
      "source": [
        "def create_file_Bibtex(pdf_data_dir):\n",
        "  #///////////////////////////////////////////////////\n",
        "  images_path =''\n",
        "  All_Pdf_citation = []\n",
        "  pdf_files = list(os.listdir(pdf_data_dir))\n",
        "  pdf_files = [t for t in pdf_files if t.endswith('.pdf')]\n",
        "  \n",
        "  for pdf_file in pdf_files:\n",
        "    images_path =pdf_Splitter(pdf_file, pdf_data_dir)\n",
        "  \n",
        "\n",
        "  print(images_path)\n",
        "  if os.path.exists(images_path):\n",
        "    file_list = os.listdir(images_path)\n",
        "    for filename in file_list:\n",
        "        if filename.endswith('_0_ori.jpg') or filename.endswith('_0_ori.jpeg'):\n",
        "            image_path = os.path.join(images_path, filename)\n",
        "            Title =  get_title_of_paper(image_path)\n",
        "            image, words = preprocess(image_path)\n",
        "            cleand_words = clean_words(words)\n",
        "            text_Auther_Data_Departments_Emails = get_block_of_text(Title , cleand_words)\n",
        "            Author,Department,Emails,Date =Componentes_of_citation(text_Auther_Data_Departments_Emails)\n",
        "  else:\n",
        "      print(f\"Directory '{images_path}' does not exist.\")\n",
        "\n",
        "  #/************************************************\n",
        "  authorName={\"\"}\n",
        "  for author in Author:\n",
        "    authorName.add(author)\n",
        "  #/***********************************************\n",
        "  authorDepartment2={\"\"}\n",
        "  for department in Department:\n",
        "    authorDepartment2.add(department)\n",
        "  #/***********************************************\n",
        "  authorEmails2={\"\"}\n",
        "  for emails in Emails:\n",
        "    authorEmails2.add(emails)\n",
        "  #/***********************************************\n",
        "  paperDate2={\"\"}\n",
        "  for date in Date:\n",
        "    paperDate2.add(date)\n",
        "  #/**********************************************\n",
        "  #paperTitle2={\"\"}\n",
        "  #paperTitle2.add(Title)\n",
        "  # create a new BibTeX database\n",
        "  with open(\"mycitation.bib\", \"w\") as f:\n",
        "    f.write(\"@article{article1,\\n\")\n",
        "    f.write(\"  author = {\"+''.join(authorName)+\"},\\n\")\n",
        "    f.write(\"  title = {\"+Title+\",}\\n\")\n",
        "    f.write(\"  department = {\"+''.join(authorDepartment2) +\"},\\n\")\n",
        "    f.write(\"  emails = {\"+''.join(authorEmails2)+\"},\\n\")\n",
        "    f.write(\"  year = {\"+''.join(paperDate2)+\"}\\n\")\n",
        "    f.write(\"}\")"
      ]
    },
    {
      "attachments": {},
      "cell_type": "markdown",
      "metadata": {
        "id": "e-ENidEVl_kp"
      },
      "source": [
        "# TEST THE CODE"
      ]
    },
    {
      "cell_type": "code",
      "execution_count": null,
      "metadata": {
        "id": "YkqlICxfCsl3"
      },
      "outputs": [],
      "source": [
        "TRF_model , X101_model = Models_Load()"
      ]
    },
    {
      "cell_type": "code",
      "execution_count": 52,
      "metadata": {
        "colab": {
          "base_uri": "https://localhost:8080/"
        },
        "id": "d_SJMAemPwx1",
        "outputId": "184c12ac-9bd9-4739-a8a5-836da65b9da5"
      },
      "outputs": [
        {
          "name": "stderr",
          "output_type": "stream",
          "text": [
            "100%|██████████| 7/7 [00:00<00:00, 26.66it/s]\n"
          ]
        },
        {
          "name": "stdout",
          "output_type": "stream",
          "text": [
            "/content/pdf_img\n",
            "Title : Scalable and Safe Remediation of Defective Actions\n",
            "in Self-Learning Conversational Systems\n",
            "\f \n",
            "TotalAuthor : Sarthak Ahuja, Mohammad Kachuee, Fateme Sheikholeslami, Weiqing Liu, Jaeyoung Do\n",
            "\f \n"
          ]
        }
      ],
      "source": [
        "citaion_APA,citaion_MLA,citaion_Chicago =go_a_head('/content',X101_model,TRF_model )"
      ]
    },
    {
      "cell_type": "code",
      "execution_count": 53,
      "metadata": {
        "colab": {
          "base_uri": "https://localhost:8080/"
        },
        "id": "B7oKVWkRPyTd",
        "outputId": "2d9e09e3-3a19-4129-e35f-c311216c018e"
      },
      "outputs": [
        {
          "name": "stdout",
          "output_type": "stream",
          "text": [
            "Sarthak Ahuja,Mohammad Kachuee,Fateme Sheikholeslami,Weiqing Liu,Jaeyoung Do\n",
            "\f ,.(N).(o).(n).(e).Scalable and Safe Remediation of Defective Actions\n",
            "in Self-Learning Conversational Systems\n",
            "\f ..\n"
          ]
        }
      ],
      "source": [
        "print(citaion_APA)"
      ]
    },
    {
      "cell_type": "code",
      "execution_count": 54,
      "metadata": {
        "colab": {
          "base_uri": "https://localhost:8080/"
        },
        "id": "pkhicDvzPzft",
        "outputId": "79486144-126d-4d0e-975e-f4594a4f690a"
      },
      "outputs": [
        {
          "name": "stdout",
          "output_type": "stream",
          "text": [
            "Sarthak Ahuja,Mohammad Kachuee,Fateme Sheikholeslami,Weiqing Liu,Jaeyoung Do\n",
            "\f ,.Scalable and Safe Remediation of Defective Actions\n",
            "in Self-Learning Conversational Systems\n",
            "\f ..(N).(o).(n).(e).\n"
          ]
        }
      ],
      "source": [
        "print(citaion_MLA)"
      ]
    },
    {
      "cell_type": "code",
      "execution_count": 55,
      "metadata": {
        "colab": {
          "base_uri": "https://localhost:8080/"
        },
        "id": "8_2_A2BoP0el",
        "outputId": "b82e40b3-0f48-4107-abc0-07aaa0820ac6"
      },
      "outputs": [
        {
          "name": "stdout",
          "output_type": "stream",
          "text": [
            "Sarthak Ahuja,Mohammad Kachuee,Fateme Sheikholeslami,Weiqing Liu,Jaeyoung Do\n",
            "\f ,.(N).(o).(n).(e).Scalable and Safe Remediation of Defective Actions\n",
            "in Self-Learning Conversational Systems\n",
            "\f ..\n"
          ]
        }
      ],
      "source": [
        "print(citaion_Chicago)"
      ]
    }
  ],
  "metadata": {
    "colab": {
      "provenance": []
    },
    "kernelspec": {
      "display_name": "Python 3",
      "name": "python3"
    },
    "language_info": {
      "codemirror_mode": {
        "name": "ipython",
        "version": 3
      },
      "file_extension": ".py",
      "mimetype": "text/x-python",
      "name": "python",
      "nbconvert_exporter": "python",
      "pygments_lexer": "ipython3",
      "version": "3.9.0"
    }
  },
  "nbformat": 4,
  "nbformat_minor": 0
}
