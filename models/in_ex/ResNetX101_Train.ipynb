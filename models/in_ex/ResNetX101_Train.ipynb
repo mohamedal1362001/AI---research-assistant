{
  "cells": [
    {
      "cell_type": "code",
      "execution_count": null,
      "metadata": {
        "colab": {
          "base_uri": "https://localhost:8080/"
        },
        "id": "kiGsOLxpdbPr",
        "outputId": "02f85630-3f09-48c9-cc4d-84401f474bbc"
      },
      "outputs": [],
      "source": [
        "!pip install funcy\n",
        "!pip install bs4\n",
        "!pip install scikit-learn\n",
        "!pip install imagesize\n",
        "!pip install tqdm"
      ]
    },
    {
      "cell_type": "code",
      "execution_count": null,
      "metadata": {
        "id": "WTcG_gSZbzoX"
      },
      "outputs": [],
      "source": [
        "!pip install layoutparser"
      ]
    },
    {
      "cell_type": "code",
      "execution_count": null,
      "metadata": {
        "id": "WxrupypB_QPZ"
      },
      "outputs": [],
      "source": [
        "!nvcc --version"
      ]
    },
    {
      "cell_type": "code",
      "execution_count": null,
      "metadata": {
        "id": "KzMI79r9_ULl"
      },
      "outputs": [],
      "source": [
        "!nvidia-smi"
      ]
    },
    {
      "cell_type": "code",
      "execution_count": null,
      "metadata": {
        "id": "5tt8UH5oA-Px"
      },
      "outputs": [],
      "source": [
        "import torch\n",
        "print(torch.__version__)\n",
        "if torch.cuda.is_available():\n",
        "    print(\"CUDA is available.\")\n",
        "    device = torch.cuda.get_device_name(0)\n",
        "    print(\"GPU Device:\", device)\n",
        "else:\n",
        "    print(\"CUDA is not available.\")"
      ]
    },
    {
      "cell_type": "code",
      "execution_count": null,
      "metadata": {
        "id": "TYVNYM-C-k6B"
      },
      "outputs": [],
      "source": [
        "! wget https://layoutlm.blob.core.windows.net/docbank/dataset/DocBank_500K_ori_img.zip.001\n",
        "\n",
        "%mv /kaggle/working/DocBank_500K_ori_img.zip.001 /kaggle/working/images.zip\n",
        "\n",
        "import os \n",
        "!7z x /kaggle/working/images.zip\n",
        "\n",
        "# need docbankjsonfile"
      ]
    },
    {
      "cell_type": "code",
      "execution_count": null,
      "metadata": {
        "id": "-FgkR95eeCmO"
      },
      "outputs": [],
      "source": [
        "!git clone https://github.com/Layout-Parser/layout-model-training.git"
      ]
    },
    {
      "cell_type": "code",
      "execution_count": null,
      "metadata": {
        "id": "WR-cyvrOkZqM"
      },
      "outputs": [],
      "source": [
        "!python -m pip install git+https://github.com/facebookresearch/detectron2.git"
      ]
    },
    {
      "cell_type": "code",
      "execution_count": null,
      "metadata": {
        "id": "bGx4olFicbVM"
      },
      "outputs": [],
      "source": [
        "from pycocotools.coco import COCO\n",
        "import layoutparser as lp\n",
        "import random\n",
        "import cv2\n",
        "\n",
        "def load_coco_annotations(annotations, coco=None):\n",
        "    \n",
        "    layout = lp.Layout()\n",
        "\n",
        "    for ele in annotations:\n",
        "\n",
        "        x, y, w, h = ele['bbox']\n",
        "\n",
        "        layout.append(\n",
        "            lp.TextBlock(\n",
        "                block = lp.Rectangle(x, y, w+x, h+y),\n",
        "                type  = ele['category_id'] if coco is None else coco.cats[ele['category_id']]['name'],\n",
        "                id = ele['id']\n",
        "            )\n",
        "        )\n",
        "\n",
        "    return layout"
      ]
    },
    {
      "cell_type": "code",
      "execution_count": null,
      "metadata": {
        "colab": {
          "base_uri": "https://localhost:8080/"
        },
        "id": "xaZpE1rsdJMY",
        "outputId": "24117737-498e-4e7a-92c6-c8ccc0826249"
      },
      "outputs": [],
      "source": [
        "COCO_ANNO_PATH = '/kaggle/input/datasetv15/docs.json'\n",
        "COCO_IMG_PATH  = '/kaggle/working/images'\n",
        "\n",
        "coco = COCO(COCO_ANNO_PATH)"
      ]
    },
    {
      "cell_type": "code",
      "execution_count": null,
      "metadata": {
        "colab": {
          "base_uri": "https://localhost:8080/",
          "height": 1000
        },
        "id": "1q9o2O6JdWX8",
        "outputId": "96c449b0-8169-4643-958c-ceb06123f5b2"
      },
      "outputs": [],
      "source": [
        "for image_id in random.sample(coco.imgs.keys(), 2):\n",
        "    image_info = coco.imgs[image_id]\n",
        "    annotations = coco.loadAnns(coco.getAnnIds([image_id]))\n",
        "\n",
        "    image = cv2.imread(f'{COCO_IMG_PATH}/{image_info[\"file_name\"]}')\n",
        "    layout = load_coco_annotations(annotations, coco)\n",
        "\n",
        "    viz = lp.draw_box(image[...,::-1], layout)\n",
        "    display(viz) # show the results"
      ]
    },
    {
      "cell_type": "code",
      "execution_count": null,
      "metadata": {
        "colab": {
          "base_uri": "https://localhost:8080/"
        },
        "id": "8RwnI266efhK",
        "outputId": "1e068298-6771-4cfc-cb20-2a96a18377dd"
      },
      "outputs": [],
      "source": [
        "!python /content/layout-model-training/utils/cocosplit.py \\\n",
        "  --annotation-path       ../kaggle/input/datasetv15/docs.json \\\n",
        "  --split-ratio           0.85 \\\n",
        "  --train               ../kaggle/working/train.json \\\n",
        "  --test                ../kaggle/working/test.json"
      ]
    },
    {
      "cell_type": "code",
      "execution_count": null,
      "metadata": {
        "id": "6jIV4Xd2gGcb"
      },
      "outputs": [],
      "source": [
        "!python /content/layout-model-training/tools/train_net.py \\\n",
        "    --dataset_name          docs-dataset \\\n",
        "    --json_annotation_train ../kaggle/working/train.json \\\n",
        "    --image_path_train      ../kaggle/working/images \\\n",
        "    --json_annotation_val   ../kaggle/working/test.json \\\n",
        "    --image_path_val        ../kaggle/working/images \\\n",
        "    --config-file           ../content/configs/COCO-Detection/faster_rcnn_X_101_32x8d_FPN_3x.yaml \\\n",
        "    OUTPUT_DIR  ../content/output/x101.yaml \\\n",
        "    SOLVER.IMS_PER_BATCH 2"
      ]
    }
  ],
  "metadata": {
    "accelerator": "GPU",
    "colab": {
      "gpuType": "T4",
      "provenance": []
    },
    "gpuClass": "standard",
    "kernelspec": {
      "display_name": "Python 3",
      "name": "python3"
    },
    "language_info": {
      "name": "python"
    }
  },
  "nbformat": 4,
  "nbformat_minor": 0
}
